{
 "cells": [
  {
   "cell_type": "markdown",
   "id": "64dcea6e-e25b-46c2-a6d4-3a55ab62d7a5",
   "metadata": {},
   "source": [
    "# Naïve Bayes Text Classification"
   ]
  },
  {
   "cell_type": "markdown",
   "id": "bea34731-61a4-4dd0-a4a3-0acb3e40820e",
   "metadata": {},
   "source": [
    "__Team Members:__ Surya Suresh Sriraman, Nivetha Sivakumar, Aravind Raju"
   ]
  },
  {
   "cell_type": "markdown",
   "id": "92bc532e-f030-4929-b553-69c08d989ab9",
   "metadata": {},
   "source": [
    "# Introduction"
   ]
  },
  {
   "cell_type": "markdown",
   "id": "02854c6b-90ad-4bec-9a49-853406ec39f0",
   "metadata": {},
   "source": [
    "## Sentiment Analysis of Movie Reviews using Naive Bayes"
   ]
  },
  {
   "cell_type": "markdown",
   "id": "ba40536a-df7e-4586-9758-57783e3a3544",
   "metadata": {},
   "source": [
    "__Problem:__ We want to understand the sentiment (positive or negative) expressed in movie reviews. This can be valuable for various applications, such as:\n",
    "\n",
    "- Helping movie studios gauge audience reception.\n",
    "- Recommending movies to users based on their preferences.\n",
    "- Identifying trends in public opinion about movies.\n",
    "\n",
    "This work will explore a dataset comprised of 1000 positive and 1000 negative movie reviews sourced from this site: http://www.cs.cornell.edu/people/pabo/movie-review-data/ .We will build a Naive Bayes classification model to analyze movie reviews and categorize them as positive or negative.  Here's how we'll approach the problem:\n",
    "\n",
    "__Approach:__\n",
    "\n",
    "- __Data Acquisition:__ Utilize Python and the Pandas library to load the data into a suitable DataFrame.\n",
    "- __Data Preprocessing:__ Clean the review text by removing punctuation, stop words, and converting all words to lowercase.\n",
    "- __Frequency Distribution Plots:__ Explore and analyze the dataset to identify modet frequent words.\n",
    "- __Naïve Bayes Model Training:__ Train a Naive Bayes classifier using the preprocessed reviews and their corresponding sentiment labels (positive or negative).\n",
    "- __Model Evaluation:__ Test the trained model on unseen reviews to assess its accuracy in predicting sentiment."
   ]
  },
  {
   "cell_type": "markdown",
   "id": "77929bba-764c-4ae8-a97a-5c096de3a979",
   "metadata": {},
   "source": [
    "# Data Preparation"
   ]
  },
  {
   "cell_type": "markdown",
   "id": "05425dd6-20a7-4652-9617-c38871ddb000",
   "metadata": {},
   "source": [
    "## Import Libraries"
   ]
  },
  {
   "cell_type": "code",
   "execution_count": 1,
   "id": "991b433f-ba20-4fbb-9c8c-b19267c71b3f",
   "metadata": {},
   "outputs": [],
   "source": [
    "import pandas as pd\n",
    "import numpy as np\n",
    "import matplotlib.pyplot as plt\n",
    "import seaborn as sns\n",
    "from bs4 import BeautifulSoup\n",
    "import requests\n",
    "import re\n",
    "import nltk\n",
    "from nltk.corpus import stopwords\n",
    "from nltk.tokenize import word_tokenize\n",
    "from nltk.stem import WordNetLemmatizer\n",
    "from collections import Counter\n",
    "from sklearn.model_selection import train_test_split\n",
    "from sklearn.naive_bayes import MultinomialNB\n",
    "from sklearn.metrics import confusion_matrix, accuracy_score, precision_score, recall_score, f1_score, classification_report\n",
    "\n",
    "# nltk.download('punkt')\n",
    "# nltk.download('stopwords')\n",
    "# nltk.download('wordnet')\n",
    "\n",
    "import warnings\n",
    "warnings.filterwarnings('ignore')\n",
    "\n",
    "%matplotlib inline"
   ]
  },
  {
   "cell_type": "code",
   "execution_count": 2,
   "id": "4bc611ca-a976-4d13-bf86-11b7dd73a1eb",
   "metadata": {},
   "outputs": [],
   "source": [
    "from IPython.display import clear_output\n",
    "\n",
    "def clrscr():\n",
    "    clear_output(wait=True)"
   ]
  },
  {
   "cell_type": "markdown",
   "id": "46277933-a4d4-49b1-9b4e-342e41bdd4b9",
   "metadata": {},
   "source": [
    "## Data Loading and Processing"
   ]
  },
  {
   "cell_type": "code",
   "execution_count": 3,
   "id": "a9cc9772-7feb-4972-90ed-1dd5d6fa2911",
   "metadata": {},
   "outputs": [],
   "source": [
    "# GitHub repository URL\n",
    "positive_reviews_directory = r'https://github.com/s-surya-s/DAV-6150/tree/main/M10_data/pos'\n",
    "negative_reviews_directory = r'https://github.com/s-surya-s/DAV-6150/tree/main/M10_data/neg'"
   ]
  },
  {
   "cell_type": "code",
   "execution_count": 4,
   "id": "5f635b82-550c-45a0-a26e-965058efa233",
   "metadata": {},
   "outputs": [],
   "source": [
    "# Define stopwords and initialize the stemmer\n",
    "stop_words = set(stopwords.words('english'))\n",
    "porter = nltk.PorterStemmer()"
   ]
  },
  {
   "cell_type": "code",
   "execution_count": 5,
   "id": "834a87a4-b899-4b24-9920-4521c7d2f3c2",
   "metadata": {},
   "outputs": [],
   "source": [
    "def preprocess_text(text):    \n",
    "    \"\"\"\n",
    "    Preprocesses the input text by converting it to lowercase, \n",
    "    removing punctuation, tokenizing it, removing stopwords, \n",
    "    and performing stemming.\n",
    "    \n",
    "    Args:\n",
    "    text (str): The input text to be preprocessed.\n",
    "    \n",
    "    Returns:\n",
    "    list: A list of preprocessed tokens.\n",
    "    \"\"\"\n",
    "    \n",
    "    # Convert text to lowercase\n",
    "    text = text.lower()\n",
    "    \n",
    "    # Remove punctuation\n",
    "    text = re.sub(r'[^\\w\\s]', '', text)\n",
    "    \n",
    "    # Tokenize text\n",
    "    tokens = word_tokenize(text)\n",
    "    \n",
    "    # Remove stopwords and perform stemming\n",
    "    filtered_tokens = [porter.stem(token) for token in tokens if token not in stop_words]\n",
    "\n",
    "    # Lemmatization\n",
    "    lemmatizer = WordNetLemmatizer()\n",
    "    lemmatized_tokens = [lemmatizer.lemmatize(token) for token in filtered_tokens]\n",
    "    \n",
    "    return lemmatized_tokens"
   ]
  },
  {
   "cell_type": "code",
   "execution_count": 6,
   "id": "4a83d2fb-488d-43dd-97c4-d87d15d4c32c",
   "metadata": {},
   "outputs": [],
   "source": [
    "def extract_reviews(url):\n",
    "    \"\"\"\n",
    "    Extracts reviews from a given URL.\n",
    "    \n",
    "    Args:\n",
    "    url (str): The URL of the directory containing review files.\n",
    "    \n",
    "    Returns:\n",
    "    list: A list of preprocessed reviews.\n",
    "    \"\"\"\n",
    "    reviews = []  # List to store extracted reviews\n",
    "    \n",
    "    try:\n",
    "        # Send a GET request to the provided URL\n",
    "        response = requests.get(url)\n",
    "        response.raise_for_status()  # Raise an exception for HTTP errors\n",
    "        \n",
    "        # Parse the HTML content of the response using BeautifulSoup\n",
    "        soup = BeautifulSoup(response.content, 'html.parser')\n",
    "        \n",
    "        # Define a regular expression pattern to extract file names\n",
    "        pattern = r'{\"name\":\"([^\"]+.txt)\"'\n",
    "        \n",
    "        # Find all matches of the pattern in the HTML content\n",
    "        file_names = re.findall(pattern, str(soup))\n",
    "        \n",
    "        log = 0  # Variable to track progress\n",
    "        total = len(file_names)  # Total number of files\n",
    "        \n",
    "        # Iterate over each file name found\n",
    "        for file_name in file_names:\n",
    "            # Construct the URL for the file\n",
    "            file_url = f'{url}/{file_name}'\n",
    "            # Modify the file URL to point to the raw file on GitHub\n",
    "            file_url = file_url.replace(\"github.com\", \"raw.githubusercontent.com\").replace(\"/tree/\", \"/\")\n",
    "            \n",
    "            log += 1  # Increment progress counter\n",
    "            progress = int(100 * log/total)  # Calculate progress percentage\n",
    "            \n",
    "            # Print progress information\n",
    "            print(f'{progress}%')\n",
    "            print(f'{log}/{total} : Loading data from {file_url}')\n",
    "            clrscr()\n",
    "            \n",
    "            try:\n",
    "                # Send a GET request to the file URL\n",
    "                file_response = requests.get(file_url)\n",
    "                file_response.raise_for_status()  # Raise an exception for HTTP errors\n",
    "                \n",
    "                # Get the content of the file\n",
    "                file_content = file_response.text\n",
    "                # Preprocess the content to extract reviews\n",
    "                processed_review = preprocess_text(file_content)\n",
    "                # Append the processed review to the list of reviews\n",
    "                reviews.append(processed_review) \n",
    "            except requests.HTTPError as e:\n",
    "                print(f\"Failed to fetch data from file '{file_url}': {e}\")\n",
    "    except requests.HTTPError as e:\n",
    "        print(f\"Failed to access directory at '{url}': {e}\")\n",
    "    \n",
    "    print('Load Successful')\n",
    "    \n",
    "    return reviews"
   ]
  },
  {
   "cell_type": "code",
   "execution_count": 7,
   "id": "7599728f-4ac9-4eff-aff7-51dcc0700269",
   "metadata": {},
   "outputs": [
    {
     "name": "stdout",
     "output_type": "stream",
     "text": [
      "Load Successful\n"
     ]
    }
   ],
   "source": [
    "positive_reviews = extract_reviews(positive_reviews_directory)"
   ]
  },
  {
   "cell_type": "code",
   "execution_count": 8,
   "id": "58d5c0bb-f6d7-4029-9329-ca9a88b2cf03",
   "metadata": {},
   "outputs": [
    {
     "name": "stdout",
     "output_type": "stream",
     "text": [
      "Load Successful\n"
     ]
    }
   ],
   "source": [
    "negative_reviews = extract_reviews(negative_reviews_directory)"
   ]
  },
  {
   "cell_type": "code",
   "execution_count": 9,
   "id": "598f6de1-b73d-49d9-a4e8-641f76f73681",
   "metadata": {},
   "outputs": [],
   "source": [
    "# Create vocabulary\n",
    "vocabulary = set()\n",
    "for review in positive_reviews + negative_reviews:\n",
    "    vocabulary.update(review)"
   ]
  },
  {
   "cell_type": "code",
   "execution_count": 10,
   "id": "db7c8481-e6ed-4f96-b604-89cd88ad3b76",
   "metadata": {},
   "outputs": [
    {
     "data": {
      "text/html": [
       "<div>\n",
       "<style scoped>\n",
       "    .dataframe tbody tr th:only-of-type {\n",
       "        vertical-align: middle;\n",
       "    }\n",
       "\n",
       "    .dataframe tbody tr th {\n",
       "        vertical-align: top;\n",
       "    }\n",
       "\n",
       "    .dataframe thead th {\n",
       "        text-align: right;\n",
       "    }\n",
       "</style>\n",
       "<table border=\"1\" class=\"dataframe\">\n",
       "  <thead>\n",
       "    <tr style=\"text-align: right;\">\n",
       "      <th></th>\n",
       "      <th>Sentiment</th>\n",
       "      <th>cowmoo</th>\n",
       "      <th>debt</th>\n",
       "      <th>mysterygirlwhosnorealmysteri</th>\n",
       "      <th>00</th>\n",
       "      <th>homoerotic</th>\n",
       "      <th>shield</th>\n",
       "      <th>talk</th>\n",
       "      <th>instantgratif</th>\n",
       "      <th>wars_</th>\n",
       "      <th>...</th>\n",
       "      <th>kristi</th>\n",
       "      <th>cultfavorit</th>\n",
       "      <th>overthrow</th>\n",
       "      <th>diplomat</th>\n",
       "      <th>leviathan</th>\n",
       "      <th>storytel</th>\n",
       "      <th>mastrantonio</th>\n",
       "      <th>tougher</th>\n",
       "      <th>wroth</th>\n",
       "      <th>percept</th>\n",
       "    </tr>\n",
       "  </thead>\n",
       "  <tbody>\n",
       "    <tr>\n",
       "      <th>0</th>\n",
       "      <td>POS</td>\n",
       "      <td>0</td>\n",
       "      <td>0</td>\n",
       "      <td>0</td>\n",
       "      <td>1</td>\n",
       "      <td>0</td>\n",
       "      <td>0</td>\n",
       "      <td>0</td>\n",
       "      <td>0</td>\n",
       "      <td>0</td>\n",
       "      <td>...</td>\n",
       "      <td>0</td>\n",
       "      <td>0</td>\n",
       "      <td>0</td>\n",
       "      <td>0</td>\n",
       "      <td>0</td>\n",
       "      <td>0</td>\n",
       "      <td>0</td>\n",
       "      <td>0</td>\n",
       "      <td>0</td>\n",
       "      <td>0</td>\n",
       "    </tr>\n",
       "    <tr>\n",
       "      <th>1</th>\n",
       "      <td>POS</td>\n",
       "      <td>0</td>\n",
       "      <td>0</td>\n",
       "      <td>0</td>\n",
       "      <td>0</td>\n",
       "      <td>0</td>\n",
       "      <td>0</td>\n",
       "      <td>0</td>\n",
       "      <td>0</td>\n",
       "      <td>0</td>\n",
       "      <td>...</td>\n",
       "      <td>0</td>\n",
       "      <td>0</td>\n",
       "      <td>0</td>\n",
       "      <td>0</td>\n",
       "      <td>0</td>\n",
       "      <td>0</td>\n",
       "      <td>0</td>\n",
       "      <td>0</td>\n",
       "      <td>0</td>\n",
       "      <td>0</td>\n",
       "    </tr>\n",
       "    <tr>\n",
       "      <th>2</th>\n",
       "      <td>POS</td>\n",
       "      <td>0</td>\n",
       "      <td>0</td>\n",
       "      <td>0</td>\n",
       "      <td>0</td>\n",
       "      <td>0</td>\n",
       "      <td>0</td>\n",
       "      <td>0</td>\n",
       "      <td>0</td>\n",
       "      <td>0</td>\n",
       "      <td>...</td>\n",
       "      <td>0</td>\n",
       "      <td>0</td>\n",
       "      <td>0</td>\n",
       "      <td>0</td>\n",
       "      <td>0</td>\n",
       "      <td>0</td>\n",
       "      <td>0</td>\n",
       "      <td>0</td>\n",
       "      <td>0</td>\n",
       "      <td>0</td>\n",
       "    </tr>\n",
       "    <tr>\n",
       "      <th>3</th>\n",
       "      <td>POS</td>\n",
       "      <td>0</td>\n",
       "      <td>0</td>\n",
       "      <td>0</td>\n",
       "      <td>0</td>\n",
       "      <td>0</td>\n",
       "      <td>0</td>\n",
       "      <td>0</td>\n",
       "      <td>0</td>\n",
       "      <td>0</td>\n",
       "      <td>...</td>\n",
       "      <td>0</td>\n",
       "      <td>0</td>\n",
       "      <td>0</td>\n",
       "      <td>0</td>\n",
       "      <td>0</td>\n",
       "      <td>0</td>\n",
       "      <td>0</td>\n",
       "      <td>0</td>\n",
       "      <td>0</td>\n",
       "      <td>0</td>\n",
       "    </tr>\n",
       "    <tr>\n",
       "      <th>4</th>\n",
       "      <td>POS</td>\n",
       "      <td>0</td>\n",
       "      <td>0</td>\n",
       "      <td>0</td>\n",
       "      <td>0</td>\n",
       "      <td>0</td>\n",
       "      <td>0</td>\n",
       "      <td>0</td>\n",
       "      <td>0</td>\n",
       "      <td>0</td>\n",
       "      <td>...</td>\n",
       "      <td>0</td>\n",
       "      <td>0</td>\n",
       "      <td>0</td>\n",
       "      <td>0</td>\n",
       "      <td>0</td>\n",
       "      <td>0</td>\n",
       "      <td>0</td>\n",
       "      <td>0</td>\n",
       "      <td>0</td>\n",
       "      <td>0</td>\n",
       "    </tr>\n",
       "  </tbody>\n",
       "</table>\n",
       "<p>5 rows × 32046 columns</p>\n",
       "</div>"
      ],
      "text/plain": [
       "  Sentiment  cowmoo  debt  mysterygirlwhosnorealmysteri  00  homoerotic  \\\n",
       "0       POS       0     0                             0   1           0   \n",
       "1       POS       0     0                             0   0           0   \n",
       "2       POS       0     0                             0   0           0   \n",
       "3       POS       0     0                             0   0           0   \n",
       "4       POS       0     0                             0   0           0   \n",
       "\n",
       "   shield  talk  instantgratif  wars_  ...  kristi  cultfavorit  overthrow  \\\n",
       "0       0     0              0      0  ...       0            0          0   \n",
       "1       0     0              0      0  ...       0            0          0   \n",
       "2       0     0              0      0  ...       0            0          0   \n",
       "3       0     0              0      0  ...       0            0          0   \n",
       "4       0     0              0      0  ...       0            0          0   \n",
       "\n",
       "   diplomat  leviathan  storytel  mastrantonio  tougher  wroth  percept  \n",
       "0         0          0         0             0        0      0        0  \n",
       "1         0          0         0             0        0      0        0  \n",
       "2         0          0         0             0        0      0        0  \n",
       "3         0          0         0             0        0      0        0  \n",
       "4         0          0         0             0        0      0        0  \n",
       "\n",
       "[5 rows x 32046 columns]"
      ]
     },
     "execution_count": 10,
     "metadata": {},
     "output_type": "execute_result"
    }
   ],
   "source": [
    "# Initialize an empty DataFrame for the term-document matrix\n",
    "term_document_matrix = pd.DataFrame(0,\n",
    "                                    index=range(len(positive_reviews) + len(negative_reviews)),\n",
    "                                    columns=['Sentiment']+list(vocabulary))\n",
    "\n",
    "# Populate term-document matrix with word frequencies\n",
    "for idx, review in enumerate(positive_reviews):\n",
    "    for word in review:\n",
    "        term_document_matrix.loc[idx, word] += 1\n",
    "    term_document_matrix.loc[idx, 'Sentiment'] = 'POS'\n",
    "\n",
    "for idx, review in enumerate(negative_reviews, start=len(positive_reviews)):\n",
    "    for word in review:\n",
    "        term_document_matrix.loc[idx, word] += 1\n",
    "    term_document_matrix.loc[idx, 'Sentiment'] = 'NEG'\n",
    "\n",
    "term_document_matrix.head()"
   ]
  },
  {
   "cell_type": "markdown",
   "id": "5142df8c-93b5-4194-8887-67cc4fd62bf0",
   "metadata": {},
   "source": [
    "# Frequency Distribution Plots"
   ]
  },
  {
   "cell_type": "code",
   "execution_count": 11,
   "id": "d7639611-5c48-43cb-a5f2-fc2bb33ab99f",
   "metadata": {},
   "outputs": [],
   "source": [
    "def plot_frequency_distribution(term_document_matrix, sentiment):\n",
    "    # Filter term-document matrix by sentiment\n",
    "    filtered_matrix = term_document_matrix[term_document_matrix['Sentiment'] == sentiment]\n",
    "    \n",
    "    # Get frequency counts for all words\n",
    "    word_counts = filtered_matrix.drop(columns=['Sentiment']).sum(axis=0)\n",
    "    \n",
    "    # Get top 30 most frequent words\n",
    "    top_30_words = word_counts.sort_values(ascending=False).head(30)\n",
    "    \n",
    "    # Plot frequency distribution\n",
    "    plt.figure(figsize=(12, 6))\n",
    "    top_30_words.plot(kind='bar')\n",
    "    plt.title(f'Frequency Distribution of Top 30 Words in {sentiment} Reviews')\n",
    "    plt.xlabel('Words')\n",
    "    plt.ylabel('Frequency')\n",
    "    plt.xticks(rotation=45, ha='right')\n",
    "    plt.tight_layout()\n",
    "    plt.show()"
   ]
  },
  {
   "cell_type": "markdown",
   "id": "49dc5cf6-3180-4e65-b4d1-43f3d563cd78",
   "metadata": {},
   "source": [
    "### Top frequent words in the positive reviews"
   ]
  },
  {
   "cell_type": "code",
   "execution_count": 12,
   "id": "e88e5702-4a71-44c1-ae1b-68bc8a6a601e",
   "metadata": {},
   "outputs": [
    {
     "data": {
      "image/png": "[encoded data removed]",
      "text/plain": [
       "<Figure size 1200x600 with 1 Axes>"
      ]
     },
     "metadata": {},
     "output_type": "display_data"
    }
   ],
   "source": [
    "plot_frequency_distribution(term_document_matrix, 'POS')"
   ]
  },
  {
   "cell_type": "markdown",
   "id": "6ffadc16-f3ab-48ca-8ea0-d75c45194b8d",
   "metadata": {},
   "source": [
    "__Insights:__"
   ]
  },
  {
   "cell_type": "markdown",
   "id": "c7c2b9f3-e4b6-4687-8179-df4310cf8f5c",
   "metadata": {},
   "source": [
    "### Top frequent words in the positive reviews"
   ]
  },
  {
   "cell_type": "code",
   "execution_count": 13,
   "id": "fa02da38-10af-4ffb-a83b-f560f1d5bcf3",
   "metadata": {},
   "outputs": [
    {
     "data": {
      "image/png": "[encoded data removed]",
      "text/plain": [
       "<Figure size 1200x600 with 1 Axes>"
      ]
     },
     "metadata": {},
     "output_type": "display_data"
    }
   ],
   "source": [
    "plot_frequency_distribution(term_document_matrix, 'NEG')"
   ]
  },
  {
   "cell_type": "markdown",
   "id": "a7aeb0db-6501-48f7-bc9c-39a81b2f037a",
   "metadata": {},
   "source": [
    "__Insights:__"
   ]
  },
  {
   "cell_type": "markdown",
   "id": "0377d4aa-4311-459b-82d1-5b0dcc996835",
   "metadata": {},
   "source": [
    "# Naïve Bayes Model Training"
   ]
  },
  {
   "cell_type": "markdown",
   "id": "cffa5361-6d79-447d-93af-2b14596ffc12",
   "metadata": {},
   "source": [
    "## Split the data"
   ]
  },
  {
   "cell_type": "code",
   "execution_count": 14,
   "id": "12245204-53fd-48d6-8f26-60273128b4d8",
   "metadata": {},
   "outputs": [
    {
     "name": "stdout",
     "output_type": "stream",
     "text": [
      "Training data shape: (1500, 32045)\n",
      "Testing data shape: (500, 32045)\n"
     ]
    }
   ],
   "source": [
    "# Separate features (X) and target variable (y)\n",
    "X = term_document_matrix.drop(columns=['Sentiment'])\n",
    "y = np.where(term_document_matrix['Sentiment'] == 'POS', 1, 0)\n",
    "\n",
    "# Split the data into training and testing sets\n",
    "X_train, X_test, y_train, y_test = train_test_split(X, y, test_size=0.25, random_state=42)\n",
    "\n",
    "# Display the shape of training and testing data\n",
    "print(\"Training data shape:\", X_train.shape)\n",
    "print(\"Testing data shape:\", X_test.shape)"
   ]
  },
  {
   "cell_type": "code",
   "execution_count": 15,
   "id": "9e6c3f3e-22d9-4d07-8028-5156b0cddd3f",
   "metadata": {},
   "outputs": [
    {
     "data": {
      "text/html": [
       "<style>#sk-container-id-1 {color: black;background-color: white;}#sk-container-id-1 pre{padding: 0;}#sk-container-id-1 div.sk-toggleable {background-color: white;}#sk-container-id-1 label.sk-toggleable__label {cursor: pointer;display: block;width: 100%;margin-bottom: 0;padding: 0.3em;box-sizing: border-box;text-align: center;}#sk-container-id-1 label.sk-toggleable__label-arrow:before {content: \"▸\";float: left;margin-right: 0.25em;color: #696969;}#sk-container-id-1 label.sk-toggleable__label-arrow:hover:before {color: black;}#sk-container-id-1 div.sk-estimator:hover label.sk-toggleable__label-arrow:before {color: black;}#sk-container-id-1 div.sk-toggleable__content {max-height: 0;max-width: 0;overflow: hidden;text-align: left;background-color: #f0f8ff;}#sk-container-id-1 div.sk-toggleable__content pre {margin: 0.2em;color: black;border-radius: 0.25em;background-color: #f0f8ff;}#sk-container-id-1 input.sk-toggleable__control:checked~div.sk-toggleable__content {max-height: 200px;max-width: 100%;overflow: auto;}#sk-container-id-1 input.sk-toggleable__control:checked~label.sk-toggleable__label-arrow:before {content: \"▾\";}#sk-container-id-1 div.sk-estimator input.sk-toggleable__control:checked~label.sk-toggleable__label {background-color: #d4ebff;}#sk-container-id-1 div.sk-label input.sk-toggleable__control:checked~label.sk-toggleable__label {background-color: #d4ebff;}#sk-container-id-1 input.sk-hidden--visually {border: 0;clip: rect(1px 1px 1px 1px);clip: rect(1px, 1px, 1px, 1px);height: 1px;margin: -1px;overflow: hidden;padding: 0;position: absolute;width: 1px;}#sk-container-id-1 div.sk-estimator {font-family: monospace;background-color: #f0f8ff;border: 1px dotted black;border-radius: 0.25em;box-sizing: border-box;margin-bottom: 0.5em;}#sk-container-id-1 div.sk-estimator:hover {background-color: #d4ebff;}#sk-container-id-1 div.sk-parallel-item::after {content: \"\";width: 100%;border-bottom: 1px solid gray;flex-grow: 1;}#sk-container-id-1 div.sk-label:hover label.sk-toggleable__label {background-color: #d4ebff;}#sk-container-id-1 div.sk-serial::before {content: \"\";position: absolute;border-left: 1px solid gray;box-sizing: border-box;top: 0;bottom: 0;left: 50%;z-index: 0;}#sk-container-id-1 div.sk-serial {display: flex;flex-direction: column;align-items: center;background-color: white;padding-right: 0.2em;padding-left: 0.2em;position: relative;}#sk-container-id-1 div.sk-item {position: relative;z-index: 1;}#sk-container-id-1 div.sk-parallel {display: flex;align-items: stretch;justify-content: center;background-color: white;position: relative;}#sk-container-id-1 div.sk-item::before, #sk-container-id-1 div.sk-parallel-item::before {content: \"\";position: absolute;border-left: 1px solid gray;box-sizing: border-box;top: 0;bottom: 0;left: 50%;z-index: -1;}#sk-container-id-1 div.sk-parallel-item {display: flex;flex-direction: column;z-index: 1;position: relative;background-color: white;}#sk-container-id-1 div.sk-parallel-item:first-child::after {align-self: flex-end;width: 50%;}#sk-container-id-1 div.sk-parallel-item:last-child::after {align-self: flex-start;width: 50%;}#sk-container-id-1 div.sk-parallel-item:only-child::after {width: 0;}#sk-container-id-1 div.sk-dashed-wrapped {border: 1px dashed gray;margin: 0 0.4em 0.5em 0.4em;box-sizing: border-box;padding-bottom: 0.4em;background-color: white;}#sk-container-id-1 div.sk-label label {font-family: monospace;font-weight: bold;display: inline-block;line-height: 1.2em;}#sk-container-id-1 div.sk-label-container {text-align: center;}#sk-container-id-1 div.sk-container {/* jupyter's `normalize.less` sets `[hidden] { display: none; }` but bootstrap.min.css set `[hidden] { display: none !important; }` so we also need the `!important` here to be able to override the default hidden behavior on the sphinx rendered scikit-learn.org. See: https://github.com/scikit-learn/scikit-learn/issues/21755 */display: inline-block !important;position: relative;}#sk-container-id-1 div.sk-text-repr-fallback {display: none;}</style><div id=\"sk-container-id-1\" class=\"sk-top-container\"><div class=\"sk-text-repr-fallback\"><pre>MultinomialNB()</pre><b>In a Jupyter environment, please rerun this cell to show the HTML representation or trust the notebook. <br />On GitHub, the HTML representation is unable to render, please try loading this page with nbviewer.org.</b></div><div class=\"sk-container\" hidden><div class=\"sk-item\"><div class=\"sk-estimator sk-toggleable\"><input class=\"sk-toggleable__control sk-hidden--visually\" id=\"sk-estimator-id-1\" type=\"checkbox\" checked><label for=\"sk-estimator-id-1\" class=\"sk-toggleable__label sk-toggleable__label-arrow\">MultinomialNB</label><div class=\"sk-toggleable__content\"><pre>MultinomialNB()</pre></div></div></div></div></div>"
      ],
      "text/plain": [
       "MultinomialNB()"
      ]
     },
     "execution_count": 15,
     "metadata": {},
     "output_type": "execute_result"
    }
   ],
   "source": [
    "# Initialize the Naive Bayes classifier\n",
    "nb_classifier = MultinomialNB()\n",
    "\n",
    "# Train the classifier using the training data\n",
    "nb_classifier.fit(X_train, y_train)"
   ]
  },
  {
   "cell_type": "markdown",
   "id": "7511f170-f473-4df6-b93b-78e8c3c30435",
   "metadata": {},
   "source": [
    "# Model Testing"
   ]
  },
  {
   "cell_type": "code",
   "execution_count": 16,
   "id": "3af0f048-6abe-4218-872f-31b53fa517a4",
   "metadata": {},
   "outputs": [
    {
     "name": "stdout",
     "output_type": "stream",
     "text": [
      "Evaluation on Test Set:\n"
     ]
    },
    {
     "data": {
      "image/png": "[encoded data removed]",
      "text/plain": [
       "<Figure size 200x200 with 1 Axes>"
      ]
     },
     "metadata": {},
     "output_type": "display_data"
    },
    {
     "name": "stdout",
     "output_type": "stream",
     "text": [
      "\n",
      "Classification Report:\n",
      "              precision    recall  f1-score   support\n",
      "\n",
      "           0       0.79      0.80      0.80       243\n",
      "           1       0.81      0.80      0.80       257\n",
      "\n",
      "    accuracy                           0.80       500\n",
      "   macro avg       0.80      0.80      0.80       500\n",
      "weighted avg       0.80      0.80      0.80       500\n",
      "\n"
     ]
    },
    {
     "data": {
      "text/plain": [
       "{'Accuracy': 0.8, 'Precision': 0.81, 'Recall': 0.8, 'F1-Score': 0.8}"
      ]
     },
     "execution_count": 16,
     "metadata": {},
     "output_type": "execute_result"
    }
   ],
   "source": [
    "# Predict the sentiment for the testing data\n",
    "y_pred = nb_classifier.predict(X_test)\n",
    "\n",
    "print(\"Evaluation on Test Set:\")\n",
    "conf_matrix = confusion_matrix(y_test, y_pred)\n",
    "\n",
    "# Plot confusion matrix as heatmap\n",
    "plt.figure(figsize=(2, 2))\n",
    "sns.heatmap(conf_matrix, annot=True, fmt=\"d\", cmap=\"Blues\", square=True, cbar=False,\n",
    "            xticklabels=['0', '1'],\n",
    "            yticklabels=['0', '1'])\n",
    "plt.xlabel('Predicted Labels')\n",
    "plt.ylabel('Actual Labels')\n",
    "plt.title('Confusion Matrix')\n",
    "plt.show()\n",
    "\n",
    "print(\"\\nClassification Report:\")\n",
    "print(classification_report(y_test, y_pred))\n",
    "\n",
    "{\n",
    "    'Accuracy': round(accuracy_score(y_test, y_pred), 2),\n",
    "    'Precision': round(precision_score(y_test, y_pred), 2),\n",
    "    'Recall': round(recall_score(y_test, y_pred), 2),\n",
    "    'F1-Score': round(f1_score(y_test, y_pred), 2)\n",
    "}"
   ]
  },
  {
   "cell_type": "markdown",
   "id": "d812b5c4-2f18-4565-98d2-23b68c3a7582",
   "metadata": {},
   "source": [
    "# Top Informative Features"
   ]
  },
  {
   "cell_type": "code",
   "execution_count": 17,
   "id": "dfbaba35-c5a4-4425-acf6-d464b8db369c",
   "metadata": {},
   "outputs": [
    {
     "name": "stdout",
     "output_type": "stream",
     "text": [
      "Top 30 Informative Features:\n",
      "              Negative   Positive  Difference\n",
      "nbsp         -8.471117 -12.633410    4.162293\n",
      "gattaca     -12.548655  -8.919838    3.628817\n",
      "shrek       -12.548655  -8.995824    3.552831\n",
      "brenner      -9.082919 -12.633410    3.550491\n",
      "sphere       -9.181359 -12.633410    3.452051\n",
      "werewolf     -9.216450 -12.633410    3.416960\n",
      "leila       -12.548655  -9.167674    3.380981\n",
      "mulan       -11.855508  -8.490275    3.365232\n",
      "mallori     -12.548655  -9.266114    3.282540\n",
      "seagal       -8.698507 -11.940263    3.241756\n",
      "krippendorf  -9.413161 -12.633410    3.220250\n",
      "lambeau     -12.548655  -9.337573    3.211081\n",
      "sweetback   -12.548655  -9.375314    3.173341\n",
      "guido       -12.548655  -9.375314    3.173341\n",
      "nello       -12.548655  -9.414534    3.134120\n",
      "babysitt     -9.504132 -12.633410    3.129278\n",
      "psychlo      -9.504132 -12.633410    3.129278\n",
      "pokemon      -9.504132 -12.633410    3.129278\n",
      "bye          -9.504132 -12.633410    3.129278\n",
      "feihong     -12.548655  -9.455356    3.093298\n",
      "lama        -12.548655  -9.455356    3.093298\n",
      "apostl      -12.548655  -9.455356    3.093298\n",
      "ordel       -12.548655  -9.455356    3.093298\n",
      "beau        -12.548655  -9.455356    3.093298\n",
      "jericho      -9.552922 -12.633410    3.080488\n",
      "truman      -10.756895  -7.677583    3.079312\n",
      "lebowski    -11.855508  -8.783263    3.072245\n",
      "godzilla     -7.777970 -10.841651    3.063681\n",
      "hereaft     -12.548655  -9.497916    3.050739\n",
      "mandingo     -9.604216 -12.633410    3.029194\n"
     ]
    }
   ],
   "source": [
    "# Get the feature log probabilities for each class\n",
    "feature_log_probs = nb_classifier.feature_log_prob_\n",
    "\n",
    "# Get the feature names (words)\n",
    "feature_names = X.columns\n",
    "\n",
    "# Create a DataFrame to store feature names and log probabilities\n",
    "feature_log_probs_df = pd.DataFrame(feature_log_probs, columns=feature_names)\n",
    "\n",
    "# Transpose the DataFrame to have features as rows and classes as columns\n",
    "feature_log_probs_df = feature_log_probs_df.T\n",
    "\n",
    "# Rename the columns to indicate the classes\n",
    "feature_log_probs_df.columns = ['Negative', 'Positive']\n",
    "\n",
    "# Sort the DataFrame by the absolute difference between log probabilities\n",
    "feature_log_probs_df['Difference'] = abs(feature_log_probs_df['Negative'] - feature_log_probs_df['Positive'])\n",
    "top_informative_features = feature_log_probs_df.sort_values(by='Difference', ascending=False)\n",
    "\n",
    "# Display the top 30 informative features\n",
    "print(\"Top 30 Informative Features:\")\n",
    "print(top_informative_features.head(30))"
   ]
  },
  {
   "cell_type": "markdown",
   "id": "7be7109a-ddef-4521-b01c-9521e4a9f7af",
   "metadata": {},
   "source": [
    "## Unseen Data"
   ]
  },
  {
   "cell_type": "code",
   "execution_count": 18,
   "id": "cb63530d-3595-4fbc-ba46-033d589d2d77",
   "metadata": {},
   "outputs": [],
   "source": [
    "new_review = '''There were some things I didn't like about this film. Here's what I remember most strongly: a man in an ingeniously fake-looking polar bear costume (funnier than the \"bear\" from Hercules in New York); an extra with a less than believable laugh; an ex-drug addict martian with tics; child actors who recite their lines very slowly and carefully; a newspaper headline declaring that Santa has been \"kidnapped\", and a giant robot. The least appealing acting job in the film must be when Mother Claus and her elves have been \"frozen\" by the \"Martians'\" weapons. They seemed to display an exaggerated amount of fear. Perhaps this was the preferred acting style in the 1960's??'''"
   ]
  },
  {
   "cell_type": "code",
   "execution_count": 19,
   "id": "fe4038d2-4e18-4eff-934f-1882e2ef602a",
   "metadata": {},
   "outputs": [
    {
     "name": "stdout",
     "output_type": "stream",
     "text": [
      "Predicted Sentiment: Positive\n"
     ]
    }
   ],
   "source": [
    "processed_new_review = preprocess_text(new_review)\n",
    "\n",
    "# Create a DataFrame with word frequencies for the review\n",
    "review_tdm= pd.DataFrame(0, index=[0], columns=X.columns)\n",
    "for word in processed_new_review:\n",
    "    if word in review_tdm.columns:\n",
    "        review_tdm.loc[0, word] += 1\n",
    "\n",
    "# Predict the sentiment using the trained classifier\n",
    "predicted_sentiment = nb_classifier.predict(review_tdm)\n",
    "\n",
    "# Print the predicted sentiment\n",
    "print(\"Predicted Sentiment:\", 'Positive' if predicted_sentiment[0]==1 else 'Negative')"
   ]
  },
  {
   "cell_type": "markdown",
   "id": "a4a5d81e-80ec-4ca3-b475-e566518cc2e3",
   "metadata": {},
   "source": [
    "## Investigate"
   ]
  },
  {
   "cell_type": "markdown",
   "id": "11ebedbd-5885-49b3-a98c-e1f8166472a0",
   "metadata": {},
   "source": [
    "### Check if new review had words which was not present in the training data"
   ]
  },
  {
   "cell_type": "code",
   "execution_count": 20,
   "id": "3e6752e4-1bbc-4c8a-aa86-e685d2126e4a",
   "metadata": {},
   "outputs": [
    {
     "data": {
      "text/plain": [
       "0"
      ]
     },
     "execution_count": 20,
     "metadata": {},
     "output_type": "execute_result"
    }
   ],
   "source": [
    "new_review_words = set(processed_new_review)\n",
    "train_data_words = set(X.columns)\n",
    "\n",
    "# Find non-common words\n",
    "non_common = new_review_words.difference(train_data_words)\n",
    "\n",
    "len(non_common)"
   ]
  },
  {
   "cell_type": "markdown",
   "id": "76e2f5e6-772c-4b88-8afb-d338f0c45e00",
   "metadata": {},
   "source": [
    "All the words are present in the training data, so this cant be the reason"
   ]
  },
  {
   "cell_type": "markdown",
   "id": "2129c77a-b4cb-449f-b028-8b86528b3e91",
   "metadata": {},
   "source": [
    "### Check feature importance"
   ]
  },
  {
   "cell_type": "code",
   "execution_count": 21,
   "id": "dc4235b9-9609-4ca8-bf68-01e9ace48734",
   "metadata": {},
   "outputs": [
    {
     "data": {
      "text/html": [
       "<div>\n",
       "<style scoped>\n",
       "    .dataframe tbody tr th:only-of-type {\n",
       "        vertical-align: middle;\n",
       "    }\n",
       "\n",
       "    .dataframe tbody tr th {\n",
       "        vertical-align: top;\n",
       "    }\n",
       "\n",
       "    .dataframe thead th {\n",
       "        text-align: right;\n",
       "    }\n",
       "</style>\n",
       "<table border=\"1\" class=\"dataframe\">\n",
       "  <thead>\n",
       "    <tr style=\"text-align: right;\">\n",
       "      <th></th>\n",
       "      <th>Negative</th>\n",
       "      <th>Positive</th>\n",
       "      <th>Difference</th>\n",
       "      <th>Sentiment</th>\n",
       "    </tr>\n",
       "  </thead>\n",
       "  <tbody>\n",
       "    <tr>\n",
       "      <th>here</th>\n",
       "      <td>-8.720013</td>\n",
       "      <td>-10.235515</td>\n",
       "      <td>1.515502</td>\n",
       "      <td>Negative</td>\n",
       "    </tr>\n",
       "    <tr>\n",
       "      <th>elv</th>\n",
       "      <td>-11.450042</td>\n",
       "      <td>-12.633410</td>\n",
       "      <td>1.183368</td>\n",
       "      <td>Negative</td>\n",
       "    </tr>\n",
       "    <tr>\n",
       "      <th>slowli</th>\n",
       "      <td>-9.370601</td>\n",
       "      <td>-8.428718</td>\n",
       "      <td>0.941883</td>\n",
       "      <td>Positive</td>\n",
       "    </tr>\n",
       "    <tr>\n",
       "      <th>1960</th>\n",
       "      <td>-10.351430</td>\n",
       "      <td>-9.414534</td>\n",
       "      <td>0.936896</td>\n",
       "      <td>Positive</td>\n",
       "    </tr>\n",
       "    <tr>\n",
       "      <th>hercul</th>\n",
       "      <td>-11.162360</td>\n",
       "      <td>-10.235515</td>\n",
       "      <td>0.926846</td>\n",
       "      <td>Positive</td>\n",
       "    </tr>\n",
       "    <tr>\n",
       "      <th>strongli</th>\n",
       "      <td>-10.469213</td>\n",
       "      <td>-9.542368</td>\n",
       "      <td>0.926846</td>\n",
       "      <td>Positive</td>\n",
       "    </tr>\n",
       "    <tr>\n",
       "      <th>declar</th>\n",
       "      <td>-10.246070</td>\n",
       "      <td>-9.414534</td>\n",
       "      <td>0.831535</td>\n",
       "      <td>Positive</td>\n",
       "    </tr>\n",
       "    <tr>\n",
       "      <th>tic</th>\n",
       "      <td>-11.855508</td>\n",
       "      <td>-11.023972</td>\n",
       "      <td>0.831535</td>\n",
       "      <td>Positive</td>\n",
       "    </tr>\n",
       "    <tr>\n",
       "      <th>ingeni</th>\n",
       "      <td>-10.756895</td>\n",
       "      <td>-9.994353</td>\n",
       "      <td>0.762542</td>\n",
       "      <td>Positive</td>\n",
       "    </tr>\n",
       "    <tr>\n",
       "      <th>martian</th>\n",
       "      <td>-9.413161</td>\n",
       "      <td>-10.148503</td>\n",
       "      <td>0.735343</td>\n",
       "      <td>Negative</td>\n",
       "    </tr>\n",
       "  </tbody>\n",
       "</table>\n",
       "</div>"
      ],
      "text/plain": [
       "           Negative   Positive  Difference Sentiment\n",
       "here      -8.720013 -10.235515    1.515502  Negative\n",
       "elv      -11.450042 -12.633410    1.183368  Negative\n",
       "slowli    -9.370601  -8.428718    0.941883  Positive\n",
       "1960     -10.351430  -9.414534    0.936896  Positive\n",
       "hercul   -11.162360 -10.235515    0.926846  Positive\n",
       "strongli -10.469213  -9.542368    0.926846  Positive\n",
       "declar   -10.246070  -9.414534    0.831535  Positive\n",
       "tic      -11.855508 -11.023972    0.831535  Positive\n",
       "ingeni   -10.756895  -9.994353    0.762542  Positive\n",
       "martian   -9.413161 -10.148503    0.735343  Negative"
      ]
     },
     "execution_count": 21,
     "metadata": {},
     "output_type": "execute_result"
    }
   ],
   "source": [
    "new_review_words = list(review_tdm.columns[review_tdm.iloc[0] > 0])\n",
    "\n",
    "new_review_feature_log = feature_log_probs_df.loc[feature_log_probs_df.index.isin(new_review_words)].sort_values(by='Difference', ascending=False)\n",
    "\n",
    "new_review_feature_log['Sentiment'] = new_review_feature_log.apply(lambda X : 'Positive' if X['Positive'] > X['Negative'] else 'Negative', axis = 1)\n",
    "\n",
    "new_review_feature_log.head(10)"
   ]
  },
  {
   "cell_type": "markdown",
   "id": "398b7086-b13f-44e4-8942-c72c86ab703d",
   "metadata": {},
   "source": [
    "Based on out trainig dataset, top Informative features based on the new review are demonstrating Positive sentiment. Hence, the review is predicted as Positive."
   ]
  },
  {
   "cell_type": "markdown",
   "id": "93d36600-dd29-473e-97d4-fc6b83e0da9a",
   "metadata": {},
   "source": [
    "# Conclusions"
   ]
  },
  {
   "cell_type": "markdown",
   "id": "9ab2218f-0c6b-4e20-9a7c-9c5b75bab628",
   "metadata": {},
   "source": [
    "This project demonstrated the application of Naive Bayes for sentiment analysis of movie reviews. We constructed a term-document matrix, explored word frequencies, and trained a model to classify reviews as positive or negative. The model achieved an accuracy of 80% on the testing data. Analyzing informative features revealed words that were most influential in sentiment classification. \n",
    "\n",
    "However, the model's prediction for the unseen review was incorrect. This highlights the limitations of sentiment analysis models, particularly in capturing nuances like sarcasm or complex language. Further exploration could involve Training on a more extensive dataset.\n",
    "\n",
    "Despite the misclassification of the unseen review, this project provided valuable insights into sentiment analysis using Naive Bayes. By addressing the model's limitations, we can enhance its accuracy and real-world applicability."
   ]
  }
 ],
 "metadata": {
  "kernelspec": {
   "display_name": "Python 3 (ipykernel)",
   "language": "python",
   "name": "python3"
  },
  "language_info": {
   "codemirror_mode": {
    "name": "ipython",
    "version": 3
   },
   "file_extension": ".py",
   "mimetype": "text/x-python",
   "name": "python",
   "nbconvert_exporter": "python",
   "pygments_lexer": "ipython3",
   "version": "3.11.7"
  }
 },
 "nbformat": 4,
 "nbformat_minor": 5
}
